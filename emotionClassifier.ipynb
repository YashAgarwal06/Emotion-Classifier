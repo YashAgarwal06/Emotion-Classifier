{
  "nbformat": 4,
  "nbformat_minor": 0,
  "metadata": {
    "colab": {
      "provenance": []
    },
    "kernelspec": {
      "name": "python3",
      "display_name": "Python 3"
    },
    "language_info": {
      "name": "python"
    },
    "gpuClass": "standard"
  },
  "cells": [
    {
      "cell_type": "code",
      "execution_count": null,
      "metadata": {
        "id": "2NxZ3t0CHJ5G"
      },
      "outputs": [],
      "source": [
        "import torch\n",
        "import numpy as np\n",
        "import torch.nn as nn\n",
        "import torch.nn.functional as F\n",
        "from numpy import genfromtxt"
      ]
    },
    {
      "cell_type": "code",
      "source": [
        "data = genfromtxt('fer2013.csv', delimiter=',', dtype=str)\n",
        "trainingX = []\n",
        "trainingY = []\n",
        "testingX = []\n",
        "testingY = []\n",
        "for i in range(1,len(data)):\n",
        "  if(data[i][2] == 'Training'):\n",
        "    tmp = [0,0,0,0,0,0,0]\n",
        "    tmp[int(data[i][0])] = 1\n",
        "    trainingY.append(tmp)\n",
        "    tmp = np.reshape(data[i][1].split(), (48,48))\n",
        "    tmpArr = []\n",
        "    for x in range(48):\n",
        "      aks = []\n",
        "      for y in range(48):\n",
        "        aks.append(float(tmp[x][y]))\n",
        "      tmpArr.append(aks)\n",
        "    trainingX.append([tmpArr])\n",
        "  else:\n",
        "    tmp = [0,0,0,0,0,0,0]\n",
        "    tmp[int(data[i][0])] = 1\n",
        "    testingY.append(tmp)\n",
        "    tmp = np.reshape(data[i][1].split(), (48,48))\n",
        "    tmpArr = []\n",
        "    for x in range(48):\n",
        "      aks = []\n",
        "      for y in range(48):\n",
        "        aks.append(float(tmp[x][y]))\n",
        "      tmpArr.append(aks)\n",
        "    testingX.append([tmpArr])\n"
      ],
      "metadata": {
        "id": "ZJISYSOrHZBV"
      },
      "execution_count": null,
      "outputs": []
    },
    {
      "cell_type": "code",
      "source": [
        "trainingX = np.array(trainingX)\n",
        "testingX = np.array(testingX)\n",
        "trainingY = np.array(trainingY)\n",
        "testingY = np.array(testingY)\n",
        "valX = trainingX[0:4000]\n",
        "valY = trainingY[0:4000]\n",
        "trainingX = trainingX[4000:]\n",
        "trainingY = trainingY[4000:]"
      ],
      "metadata": {
        "id": "UHWiAEdXNxHa"
      },
      "execution_count": null,
      "outputs": []
    },
    {
      "cell_type": "code",
      "source": [
        "trainingX = torch.tensor(trainingX, requires_grad=False).double()\n",
        "trainingY = torch.tensor(trainingY, requires_grad=False).double()\n",
        "testingX = torch.tensor(testingX, requires_grad=False).double()\n",
        "testingY = torch.tensor(testingY, requires_grad=False).double()\n",
        "valX = torch.tensor(valX, requires_grad=False).double()\n",
        "valY = torch.tensor(valY, requires_grad=False).double()"
      ],
      "metadata": {
        "id": "7NXtPaxrYodZ"
      },
      "execution_count": null,
      "outputs": []
    },
    {
      "cell_type": "code",
      "source": [
        "print(trainingX.shape)\n",
        "print(trainingY.shape)\n",
        "print(testingX.shape)\n",
        "print(testingY.shape)"
      ],
      "metadata": {
        "id": "-34drg-eY3YN",
        "colab": {
          "base_uri": "https://localhost:8080/"
        },
        "outputId": "d3561a73-7149-40db-d170-827341ae5813"
      },
      "execution_count": null,
      "outputs": [
        {
          "output_type": "stream",
          "name": "stdout",
          "text": [
            "torch.Size([24709, 1, 48, 48])\n",
            "torch.Size([24709, 7])\n",
            "torch.Size([7178, 1, 48, 48])\n",
            "torch.Size([7178, 7])\n"
          ]
        }
      ]
    },
    {
      "cell_type": "code",
      "source": [
        "import matplotlib.pyplot as plt\n",
        "for i in range(5):\n",
        "  plt.imshow(trainingX[i][0],cmap='gray', vmin=0, vmax=255)"
      ],
      "metadata": {
        "colab": {
          "base_uri": "https://localhost:8080/",
          "height": 267
        },
        "id": "yOepXs8BaMSK",
        "outputId": "b02531d9-568b-4024-8d67-91236dff488f"
      },
      "execution_count": null,
      "outputs": [
        {
          "output_type": "display_data",
          "data": {
            "text/plain": [
              "<Figure size 432x288 with 1 Axes>"
            ],
            "image/png": "[encoded data removed]"
          },
          "metadata": {
            "needs_background": "light"
          }
        }
      ]
    },
    {
      "cell_type": "code",
      "source": [
        "label_to_emotion = ['Angry', 'Disgust','Fear', 'Happy', 'Sad', 'Surprise', 'Neutral']\n",
        "class CNN(nn.Module):\n",
        "  def __init__(self):\n",
        "    super().__init__()\n",
        "    self.conv1 = nn.Conv2d(1,256,3)\n",
        "    self.batchNorm1 = nn.BatchNorm2d(256)\n",
        "    self.conv2 = nn.Conv2d(256,256,3)\n",
        "    self.batchNorm2 = nn.BatchNorm2d(256)\n",
        "    self.conv3 = nn.Conv2d(256,128,3)\n",
        "    self.batchNorm3 = nn.BatchNorm2d(128)\n",
        "    self.conv4 = nn.Conv2d(128,128,3)\n",
        "    self.batchNorm4 = nn.BatchNorm2d(128)\n",
        "    self.conv5 = nn.Conv2d(128,64,3)\n",
        "    self.batchNorm5 = nn.BatchNorm2d(64)\n",
        "    self.conv6 = nn.Conv2d(64,64,3)\n",
        "    self.batchNorm6 = nn.BatchNorm2d(64)\n",
        "\n",
        "\n",
        "    self.lin1 = nn.Linear(1600,512)\n",
        "    self.batchNorm7 = nn.BatchNorm1d(512)\n",
        "    self.lin2 = nn.Linear(512, 256)\n",
        "    self.batchNorm8 = nn.BatchNorm1d(256)\n",
        "    self.lin3 = nn.Linear(256,128)\n",
        "    self.batchNorm9 = nn.BatchNorm1d(128)\n",
        "    self.lin4 = nn.Linear(128,7)\n",
        "\n",
        "    self.relu = nn.ReLU()\n",
        "\n",
        "    self.pool = nn.MaxPool2d(2, stride=(2,2))\n",
        "\n",
        "    self.flatten = nn.Flatten(1)\n",
        "\n",
        "  def forward(self,x):\n",
        "     x = self.relu(self.batchNorm1(self.conv1(x)))\n",
        "     x = self.relu(self.batchNorm2(self.conv2(x)))\n",
        "     x = self.pool(x)\n",
        "     x = self.relu(self.batchNorm3(self.conv3(x)))\n",
        "     x = self.relu(self.batchNorm4(self.conv4(x)))\n",
        "     x = self.pool(x)\n",
        "     x = self.relu(self.batchNorm5(self.conv5(x)))\n",
        "     x = self.relu(self.batchNorm6(self.conv6(x)))\n",
        "     x = self.flatten(x)\n",
        "     x = self.relu(self.batchNorm7(self.lin1(x)))\n",
        "     x = self.relu(self.batchNorm8(self.lin2(x)))\n",
        "     x = self.relu(self.batchNorm9(self.lin3(x)))\n",
        "     return self.lin4(x)\n",
        " \n",
        "\n",
        "  "
      ],
      "metadata": {
        "id": "VXQkX2PiHqsV"
      },
      "execution_count": null,
      "outputs": []
    },
    {
      "cell_type": "code",
      "source": [
        "import matplotlib.pyplot as plt\n",
        "softmax = nn.Softmax()\n",
        "device = torch.device(\"cuda:0\" if torch.cuda.is_available() else \"cpu\")\n",
        "model = CNN().double().to(device)\n",
        "trainingX = trainingX\n",
        "trainingY = trainingY\n",
        "testingX = testingX\n",
        "testingY = testingY\n"
      ],
      "metadata": {
        "id": "YR4b9I80g_I6"
      },
      "execution_count": null,
      "outputs": []
    },
    {
      "cell_type": "code",
      "source": [
        "lossFunc = nn.CrossEntropyLoss()\n",
        "optimizer = torch.optim.SGD(model.parameters(), lr=3e-2)\n",
        "NUM_EPOCHS = 500\n",
        "BATCH_SIZE = 50\n",
        "NUM_BATCHES = int(len(trainingX)/BATCH_SIZE)\n",
        "lossHistory = []\n",
        "for epoch in range(NUM_EPOCHS):\n",
        "  for batch in range(NUM_BATCHES):\n",
        "    optimizer.zero_grad()\n",
        "    y_pred = model(trainingX[batch*BATCH_SIZE:batch*BATCH_SIZE + BATCH_SIZE])\n",
        "    loss = lossFunc(y_pred, trainingY[batch*BATCH_SIZE:batch*BATCH_SIZE + BATCH_SIZE])\n",
        "    \n",
        "    #print(y_pred)\n",
        "    #print(trainingY[0:1])\n",
        "    loss.backward()\n",
        "    optimizer.step()\n",
        "    #lossHistory.append(loss.tolist())\n",
        "  print(\"Training Loss: \" + str(loss))\n",
        "  total = len(valY)\n",
        "  wrong = 0\n",
        "  for i in range(len(valY)):\n",
        "    l1 = torch.round(softmax(model(valX[i:i+1].cuda())))\n",
        "    l2 = valY[i:i+1].cuda()\n",
        "    if(((l1-l2)**2).sum()!=0):\n",
        "      #print(\"Real: \" + str(l2))\n",
        "      #print(\"Guess: \" + str(l1))\n",
        "      wrong = wrong + 1\n",
        "  print(\"Validation Accuracy: \"+str((total-wrong)/total))\n",
        "#plt.plot(lossHistory)\n"
      ],
      "metadata": {
        "colab": {
          "base_uri": "https://localhost:8080/",
          "height": 381
        },
        "id": "V4uTNyfsFWB-",
        "outputId": "1baf38e8-b1d2-4b0e-ba12-8010c1931597"
      },
      "execution_count": null,
      "outputs": [
        {
          "output_type": "error",
          "ename": "KeyboardInterrupt",
          "evalue": "ignored",
          "traceback": [
            "\u001b[0;31m---------------------------------------------------------------------------\u001b[0m",
            "\u001b[0;31mKeyboardInterrupt\u001b[0m                         Traceback (most recent call last)",
            "\u001b[0;32m<ipython-input-42-350136590a7e>\u001b[0m in \u001b[0;36m<module>\u001b[0;34m()\u001b[0m\n\u001b[1;32m      8\u001b[0m   \u001b[0;32mfor\u001b[0m \u001b[0mbatch\u001b[0m \u001b[0;32min\u001b[0m \u001b[0mrange\u001b[0m\u001b[0;34m(\u001b[0m\u001b[0mNUM_BATCHES\u001b[0m\u001b[0;34m)\u001b[0m\u001b[0;34m:\u001b[0m\u001b[0;34m\u001b[0m\u001b[0;34m\u001b[0m\u001b[0m\n\u001b[1;32m      9\u001b[0m     \u001b[0moptimizer\u001b[0m\u001b[0;34m.\u001b[0m\u001b[0mzero_grad\u001b[0m\u001b[0;34m(\u001b[0m\u001b[0;34m)\u001b[0m\u001b[0;34m\u001b[0m\u001b[0;34m\u001b[0m\u001b[0m\n\u001b[0;32m---> 10\u001b[0;31m     \u001b[0my_pred\u001b[0m \u001b[0;34m=\u001b[0m \u001b[0mmodel\u001b[0m\u001b[0;34m(\u001b[0m\u001b[0mtrainingX\u001b[0m\u001b[0;34m[\u001b[0m\u001b[0mbatch\u001b[0m\u001b[0;34m*\u001b[0m\u001b[0mBATCH_SIZE\u001b[0m\u001b[0;34m:\u001b[0m\u001b[0mbatch\u001b[0m\u001b[0;34m*\u001b[0m\u001b[0mBATCH_SIZE\u001b[0m \u001b[0;34m+\u001b[0m \u001b[0mBATCH_SIZE\u001b[0m\u001b[0;34m]\u001b[0m\u001b[0;34m)\u001b[0m\u001b[0;34m\u001b[0m\u001b[0;34m\u001b[0m\u001b[0m\n\u001b[0m\u001b[1;32m     11\u001b[0m     \u001b[0mloss\u001b[0m \u001b[0;34m=\u001b[0m \u001b[0mlossFunc\u001b[0m\u001b[0;34m(\u001b[0m\u001b[0my_pred\u001b[0m\u001b[0;34m,\u001b[0m \u001b[0mtrainingY\u001b[0m\u001b[0;34m[\u001b[0m\u001b[0mbatch\u001b[0m\u001b[0;34m*\u001b[0m\u001b[0mBATCH_SIZE\u001b[0m\u001b[0;34m:\u001b[0m\u001b[0mbatch\u001b[0m\u001b[0;34m*\u001b[0m\u001b[0mBATCH_SIZE\u001b[0m \u001b[0;34m+\u001b[0m \u001b[0mBATCH_SIZE\u001b[0m\u001b[0;34m]\u001b[0m\u001b[0;34m)\u001b[0m\u001b[0;34m\u001b[0m\u001b[0;34m\u001b[0m\u001b[0m\n\u001b[1;32m     12\u001b[0m \u001b[0;34m\u001b[0m\u001b[0m\n",
            "\u001b[0;32m/usr/local/lib/python3.7/dist-packages/torch/nn/modules/module.py\u001b[0m in \u001b[0;36m_call_impl\u001b[0;34m(self, *input, **kwargs)\u001b[0m\n\u001b[1;32m   1128\u001b[0m         if not (self._backward_hooks or self._forward_hooks or self._forward_pre_hooks or _global_backward_hooks\n\u001b[1;32m   1129\u001b[0m                 or _global_forward_hooks or _global_forward_pre_hooks):\n\u001b[0;32m-> 1130\u001b[0;31m             \u001b[0;32mreturn\u001b[0m \u001b[0mforward_call\u001b[0m\u001b[0;34m(\u001b[0m\u001b[0;34m*\u001b[0m\u001b[0minput\u001b[0m\u001b[0;34m,\u001b[0m \u001b[0;34m**\u001b[0m\u001b[0mkwargs\u001b[0m\u001b[0;34m)\u001b[0m\u001b[0;34m\u001b[0m\u001b[0;34m\u001b[0m\u001b[0m\n\u001b[0m\u001b[1;32m   1131\u001b[0m         \u001b[0;31m# Do not call functions when jit is used\u001b[0m\u001b[0;34m\u001b[0m\u001b[0;34m\u001b[0m\u001b[0;34m\u001b[0m\u001b[0m\n\u001b[1;32m   1132\u001b[0m         \u001b[0mfull_backward_hooks\u001b[0m\u001b[0;34m,\u001b[0m \u001b[0mnon_full_backward_hooks\u001b[0m \u001b[0;34m=\u001b[0m \u001b[0;34m[\u001b[0m\u001b[0;34m]\u001b[0m\u001b[0;34m,\u001b[0m \u001b[0;34m[\u001b[0m\u001b[0;34m]\u001b[0m\u001b[0;34m\u001b[0m\u001b[0;34m\u001b[0m\u001b[0m\n",
            "\u001b[0;32m<ipython-input-40-0cb1c38d0069>\u001b[0m in \u001b[0;36mforward\u001b[0;34m(self, x)\u001b[0m\n\u001b[1;32m     33\u001b[0m   \u001b[0;32mdef\u001b[0m \u001b[0mforward\u001b[0m\u001b[0;34m(\u001b[0m\u001b[0mself\u001b[0m\u001b[0;34m,\u001b[0m\u001b[0mx\u001b[0m\u001b[0;34m)\u001b[0m\u001b[0;34m:\u001b[0m\u001b[0;34m\u001b[0m\u001b[0;34m\u001b[0m\u001b[0m\n\u001b[1;32m     34\u001b[0m      \u001b[0mx\u001b[0m \u001b[0;34m=\u001b[0m \u001b[0mself\u001b[0m\u001b[0;34m.\u001b[0m\u001b[0mrelu\u001b[0m\u001b[0;34m(\u001b[0m\u001b[0mself\u001b[0m\u001b[0;34m.\u001b[0m\u001b[0mbatchNorm1\u001b[0m\u001b[0;34m(\u001b[0m\u001b[0mself\u001b[0m\u001b[0;34m.\u001b[0m\u001b[0mconv1\u001b[0m\u001b[0;34m(\u001b[0m\u001b[0mx\u001b[0m\u001b[0;34m)\u001b[0m\u001b[0;34m)\u001b[0m\u001b[0;34m)\u001b[0m\u001b[0;34m\u001b[0m\u001b[0;34m\u001b[0m\u001b[0m\n\u001b[0;32m---> 35\u001b[0;31m      \u001b[0mx\u001b[0m \u001b[0;34m=\u001b[0m \u001b[0mself\u001b[0m\u001b[0;34m.\u001b[0m\u001b[0mrelu\u001b[0m\u001b[0;34m(\u001b[0m\u001b[0mself\u001b[0m\u001b[0;34m.\u001b[0m\u001b[0mbatchNorm2\u001b[0m\u001b[0;34m(\u001b[0m\u001b[0mself\u001b[0m\u001b[0;34m.\u001b[0m\u001b[0mconv2\u001b[0m\u001b[0;34m(\u001b[0m\u001b[0mx\u001b[0m\u001b[0;34m)\u001b[0m\u001b[0;34m)\u001b[0m\u001b[0;34m)\u001b[0m\u001b[0;34m\u001b[0m\u001b[0;34m\u001b[0m\u001b[0m\n\u001b[0m\u001b[1;32m     36\u001b[0m      \u001b[0mx\u001b[0m \u001b[0;34m=\u001b[0m \u001b[0mself\u001b[0m\u001b[0;34m.\u001b[0m\u001b[0mpool\u001b[0m\u001b[0;34m(\u001b[0m\u001b[0mx\u001b[0m\u001b[0;34m)\u001b[0m\u001b[0;34m\u001b[0m\u001b[0;34m\u001b[0m\u001b[0m\n\u001b[1;32m     37\u001b[0m      \u001b[0mx\u001b[0m \u001b[0;34m=\u001b[0m \u001b[0mself\u001b[0m\u001b[0;34m.\u001b[0m\u001b[0mrelu\u001b[0m\u001b[0;34m(\u001b[0m\u001b[0mself\u001b[0m\u001b[0;34m.\u001b[0m\u001b[0mbatchNorm3\u001b[0m\u001b[0;34m(\u001b[0m\u001b[0mself\u001b[0m\u001b[0;34m.\u001b[0m\u001b[0mconv3\u001b[0m\u001b[0;34m(\u001b[0m\u001b[0mx\u001b[0m\u001b[0;34m)\u001b[0m\u001b[0;34m)\u001b[0m\u001b[0;34m)\u001b[0m\u001b[0;34m\u001b[0m\u001b[0;34m\u001b[0m\u001b[0m\n",
            "\u001b[0;32m/usr/local/lib/python3.7/dist-packages/torch/nn/modules/module.py\u001b[0m in \u001b[0;36m_call_impl\u001b[0;34m(self, *input, **kwargs)\u001b[0m\n\u001b[1;32m   1128\u001b[0m         if not (self._backward_hooks or self._forward_hooks or self._forward_pre_hooks or _global_backward_hooks\n\u001b[1;32m   1129\u001b[0m                 or _global_forward_hooks or _global_forward_pre_hooks):\n\u001b[0;32m-> 1130\u001b[0;31m             \u001b[0;32mreturn\u001b[0m \u001b[0mforward_call\u001b[0m\u001b[0;34m(\u001b[0m\u001b[0;34m*\u001b[0m\u001b[0minput\u001b[0m\u001b[0;34m,\u001b[0m \u001b[0;34m**\u001b[0m\u001b[0mkwargs\u001b[0m\u001b[0;34m)\u001b[0m\u001b[0;34m\u001b[0m\u001b[0;34m\u001b[0m\u001b[0m\n\u001b[0m\u001b[1;32m   1131\u001b[0m         \u001b[0;31m# Do not call functions when jit is used\u001b[0m\u001b[0;34m\u001b[0m\u001b[0;34m\u001b[0m\u001b[0;34m\u001b[0m\u001b[0m\n\u001b[1;32m   1132\u001b[0m         \u001b[0mfull_backward_hooks\u001b[0m\u001b[0;34m,\u001b[0m \u001b[0mnon_full_backward_hooks\u001b[0m \u001b[0;34m=\u001b[0m \u001b[0;34m[\u001b[0m\u001b[0;34m]\u001b[0m\u001b[0;34m,\u001b[0m \u001b[0;34m[\u001b[0m\u001b[0;34m]\u001b[0m\u001b[0;34m\u001b[0m\u001b[0;34m\u001b[0m\u001b[0m\n",
            "\u001b[0;32m/usr/local/lib/python3.7/dist-packages/torch/nn/modules/conv.py\u001b[0m in \u001b[0;36mforward\u001b[0;34m(self, input)\u001b[0m\n\u001b[1;32m    455\u001b[0m \u001b[0;34m\u001b[0m\u001b[0m\n\u001b[1;32m    456\u001b[0m     \u001b[0;32mdef\u001b[0m \u001b[0mforward\u001b[0m\u001b[0;34m(\u001b[0m\u001b[0mself\u001b[0m\u001b[0;34m,\u001b[0m \u001b[0minput\u001b[0m\u001b[0;34m:\u001b[0m \u001b[0mTensor\u001b[0m\u001b[0;34m)\u001b[0m \u001b[0;34m->\u001b[0m \u001b[0mTensor\u001b[0m\u001b[0;34m:\u001b[0m\u001b[0;34m\u001b[0m\u001b[0;34m\u001b[0m\u001b[0m\n\u001b[0;32m--> 457\u001b[0;31m         \u001b[0;32mreturn\u001b[0m \u001b[0mself\u001b[0m\u001b[0;34m.\u001b[0m\u001b[0m_conv_forward\u001b[0m\u001b[0;34m(\u001b[0m\u001b[0minput\u001b[0m\u001b[0;34m,\u001b[0m \u001b[0mself\u001b[0m\u001b[0;34m.\u001b[0m\u001b[0mweight\u001b[0m\u001b[0;34m,\u001b[0m \u001b[0mself\u001b[0m\u001b[0;34m.\u001b[0m\u001b[0mbias\u001b[0m\u001b[0;34m)\u001b[0m\u001b[0;34m\u001b[0m\u001b[0;34m\u001b[0m\u001b[0m\n\u001b[0m\u001b[1;32m    458\u001b[0m \u001b[0;34m\u001b[0m\u001b[0m\n\u001b[1;32m    459\u001b[0m \u001b[0;32mclass\u001b[0m \u001b[0mConv3d\u001b[0m\u001b[0;34m(\u001b[0m\u001b[0m_ConvNd\u001b[0m\u001b[0;34m)\u001b[0m\u001b[0;34m:\u001b[0m\u001b[0;34m\u001b[0m\u001b[0;34m\u001b[0m\u001b[0m\n",
            "\u001b[0;32m/usr/local/lib/python3.7/dist-packages/torch/nn/modules/conv.py\u001b[0m in \u001b[0;36m_conv_forward\u001b[0;34m(self, input, weight, bias)\u001b[0m\n\u001b[1;32m    452\u001b[0m                             _pair(0), self.dilation, self.groups)\n\u001b[1;32m    453\u001b[0m         return F.conv2d(input, weight, bias, self.stride,\n\u001b[0;32m--> 454\u001b[0;31m                         self.padding, self.dilation, self.groups)\n\u001b[0m\u001b[1;32m    455\u001b[0m \u001b[0;34m\u001b[0m\u001b[0m\n\u001b[1;32m    456\u001b[0m     \u001b[0;32mdef\u001b[0m \u001b[0mforward\u001b[0m\u001b[0;34m(\u001b[0m\u001b[0mself\u001b[0m\u001b[0;34m,\u001b[0m \u001b[0minput\u001b[0m\u001b[0;34m:\u001b[0m \u001b[0mTensor\u001b[0m\u001b[0;34m)\u001b[0m \u001b[0;34m->\u001b[0m \u001b[0mTensor\u001b[0m\u001b[0;34m:\u001b[0m\u001b[0;34m\u001b[0m\u001b[0;34m\u001b[0m\u001b[0m\n",
            "\u001b[0;31mKeyboardInterrupt\u001b[0m: "
          ]
        }
      ]
    },
    {
      "cell_type": "code",
      "source": [
        "#Evaluates accuracy on testing set\n",
        "total = len(testingY)\n",
        "wrong = 0\n",
        "for i in range(len(testingY)):\n",
        "  l1 = torch.round(softmax(model(testingX[i:i+1].cuda())))\n",
        "  l2 = testingY[i:i+1].cuda()\n",
        "  if(((l1-l2)**2).sum()!=0):\n",
        "    #print(\"Real: \" + str(l2))\n",
        "    #print(\"Guess: \" + str(l1))\n",
        "    wrong = wrong + 1\n",
        "print((total-wrong)/total)"
      ],
      "metadata": {
        "id": "Z7S-OlEZJwec"
      },
      "execution_count": null,
      "outputs": []
    },
    {
      "cell_type": "code",
      "source": [
        "#Evaluates accuracy on training set\n",
        "total = len(trainingY)\n",
        "wrong = 0\n",
        "for i in range(len(trainingY)):\n",
        "  l1 = torch.round(softmax(model(trainingX[i:i+1])))\n",
        "  l2 = trainingY[i:i+1]\n",
        "  if(((l1-l2)**2).sum()!=0):\n",
        "    wrong = wrong + 1\n",
        "print((total-wrong)/total)"
      ],
      "metadata": {
        "id": "bHRHQVXZNIO6"
      },
      "execution_count": null,
      "outputs": []
    },
    {
      "cell_type": "code",
      "source": [
        "#Evaluates accuracy on validation set\n",
        "total = len(valY)\n",
        "wrong = 0\n",
        "for i in range(len(valY)):\n",
        "  l1 = torch.round(softmax(model(valX[i:i+1])))\n",
        "  l2 = valY[i:i+1]\n",
        "  if(((l1-l2)**2).sum()!=0):\n",
        "    wrong = wrong + 1\n",
        "print((total-wrong)/total)"
      ],
      "metadata": {
        "id": "aIuyooCl-rqA"
      },
      "execution_count": null,
      "outputs": []
    }
  ]
}